{
 "cells": [
  {
   "cell_type": "code",
   "execution_count": null,
   "metadata": {},
   "outputs": [],
   "source": [
    "import pandas as pd"
   ]
  },
  {
   "cell_type": "code",
   "execution_count": null,
   "metadata": {},
   "outputs": [],
   "source": [
    "ls"
   ]
  },
  {
   "cell_type": "code",
   "execution_count": null,
   "metadata": {},
   "outputs": [],
   "source": [
    "import os\n",
    "cwd = os.getcwd()\n",
    "cwd"
   ]
  },
  {
   "cell_type": "code",
   "execution_count": null,
   "metadata": {},
   "outputs": [],
   "source": [
    "os.chdir('/Users/meganvogel/vanderbilt-aspire-data-essentials/data')"
   ]
  },
  {
   "cell_type": "code",
   "execution_count": null,
   "metadata": {},
   "outputs": [],
   "source": [
    "hospice_df = pd.read_csv('Hospice_General_Information.csv')"
   ]
  },
  {
   "cell_type": "code",
   "execution_count": null,
   "metadata": {},
   "outputs": [],
   "source": [
    "hospice_df = hospice_df.loc[hospice_df.State == 'TN']\n",
    "hospice_df.head(1)"
   ]
  },
  {
   "cell_type": "code",
   "execution_count": null,
   "metadata": {},
   "outputs": [],
   "source": [
    "#Keep only the **Facility Name**, **Address Line 1**, **City**, **State**, **County Name**, **CMS Region**, **Ownership Type**, and **Cerfification Date** columns. Make all column names lower case and without spaces. \n",
    "hospice_df.columns = ['ccn', 'facility', 'address','address2','city', 'state','zip','county','phone', 'region', 'owner_type', 'cert_date']\n",
    "hospice_df.head(2)"
   ]
  },
  {
   "cell_type": "code",
   "execution_count": null,
   "metadata": {},
   "outputs": [],
   "source": [
    "hospice_df.drop(columns = 'ccn')"
   ]
  },
  {
   "cell_type": "code",
   "execution_count": null,
   "metadata": {},
   "outputs": [],
   "source": [
    "hospice_df.drop(columns = ['ccn','address2','zip','phone'])"
   ]
  },
  {
   "cell_type": "code",
   "execution_count": null,
   "metadata": {},
   "outputs": [],
   "source": [
    "#open file that contails the PEP_2017_PEPAGESEX.csv and drop the header\n",
    "pop_df = pd.read_csv('PEP_2017_PEPAGESEX.csv',skiprows=1)"
   ]
  },
  {
   "cell_type": "code",
   "execution_count": null,
   "metadata": {},
   "outputs": [],
   "source": [
    "pop_df"
   ]
  },
  {
   "cell_type": "code",
   "execution_count": null,
   "metadata": {},
   "outputs": [],
   "source": [
    "pop_df.shape"
   ]
  },
  {
   "cell_type": "code",
   "execution_count": null,
   "metadata": {},
   "outputs": [],
   "source": [
    "#drop male and female data\n",
    "pop_df = pop_df[pop_df.columns.drop(list(pop_df.filter(regex='Male')))]\n",
    "pop_df = pop_df[pop_df.columns.drop(list(pop_df.filter(regex='Female')))]\n",
    "pop_df"
   ]
  },
  {
   "cell_type": "code",
   "execution_count": null,
   "metadata": {},
   "outputs": [],
   "source": [
    "#drop april data from columns\n",
    "april_data = [col for col in pop_df.columns if col.startswith('April')]\n",
    "pop_df = pop_df.drop(april_data, axis = 1)\n",
    "#drop id and id2 columns\n",
    "id_data = [col for col in pop_df.columns if col.startswith('Id')]\n",
    "pop_df = pop_df.drop(id_data, axis = 1)\n",
    "pop_df"
   ]
  },
  {
   "cell_type": "code",
   "execution_count": null,
   "metadata": {},
   "outputs": [],
   "source": [
    "pop_df.shape"
   ]
  },
  {
   "cell_type": "code",
   "execution_count": null,
   "metadata": {},
   "outputs": [],
   "source": [
    "#drop years 2011, 2012, 2015, 2016\n",
    "year2011_data = [col for col in pop_df.columns if col.startswith('Population Estimate (as of July 1) - 2011')]\n",
    "pop_df = pop_df.drop(year2011_data, axis = 1)\n",
    "year2012_data = [col for col in pop_df.columns if col.startswith('Population Estimate (as of July 1) - 2012')]\n",
    "pop_df = pop_df.drop(year2012_data, axis = 1)\n",
    "year2013_data = [col for col in pop_df.columns if col.startswith('Population Estimate (as of July 1) - 2013')]\n",
    "pop_df = pop_df.drop(year2013_data, axis = 1)\n",
    "year2015_data = [col for col in pop_df.columns if col.startswith('Population Estimate (as of July 1) - 2015')]\n",
    "pop_df = pop_df.drop(year2015_data, axis = 1)\n",
    "year2016_data = [col for col in pop_df.columns if col.startswith('Population Estimate (as of July 1) - 2016')]\n",
    "pop_df = pop_df.drop(year2016_data, axis = 1)"
   ]
  },
  {
   "cell_type": "code",
   "execution_count": null,
   "metadata": {},
   "outputs": [],
   "source": [
    "pop_df"
   ]
  },
  {
   "cell_type": "code",
   "execution_count": null,
   "metadata": {},
   "outputs": [],
   "source": [
    "pop_df.shape"
   ]
  },
  {
   "cell_type": "code",
   "execution_count": null,
   "metadata": {},
   "outputs": [],
   "source": [
    "print(pop_df)"
   ]
  },
  {
   "cell_type": "code",
   "execution_count": null,
   "metadata": {},
   "outputs": [],
   "source": [
    "pop_df = pop_df[pop_df.columns.drop(list(pop_df.filter(regex='Under 5 years')))]\n",
    "pop_df = pop_df[pop_df.columns.drop(list(pop_df.filter(regex='5 to 9 years')))]\n",
    "pop_df = pop_df[pop_df.columns.drop(list(pop_df.filter(regex='10 to 14 years')))]\n",
    "pop_df = pop_df[pop_df.columns.drop(list(pop_df.filter(regex='15 to 19 years')))]\n",
    "pop_df = pop_df[pop_df.columns.drop(list(pop_df.filter(regex='15 to 44 years')))]\n",
    "pop_df = pop_df[pop_df.columns.drop(list(pop_df.filter(regex='20 to 24 years')))]\n",
    "pop_df = pop_df[pop_df.columns.drop(list(pop_df.filter(regex='25 to 29 years')))]\n",
    "pop_df = pop_df[pop_df.columns.drop(list(pop_df.filter(regex='30 to 34 years')))]\n",
    "pop_df = pop_df[pop_df.columns.drop(list(pop_df.filter(regex='35 to 39 years')))]\n",
    "pop_df = pop_df[pop_df.columns.drop(list(pop_df.filter(regex='40 to 44 years')))]\n",
    "pop_df = pop_df[pop_df.columns.drop(list(pop_df.filter(regex='45 to 49 years')))]\n",
    "pop_df = pop_df[pop_df.columns.drop(list(pop_df.filter(regex='16')))]\n",
    "pop_df = pop_df[pop_df.columns.drop(list(pop_df.filter(regex='18')))]\n",
    "pop_df = pop_df[pop_df.columns.drop(list(pop_df.filter(regex='65 years and over')))]\n",
    "pop_df"
   ]
  },
  {
   "cell_type": "code",
   "execution_count": null,
   "metadata": {},
   "outputs": [],
   "source": [
    "pop_df.shape"
   ]
  },
  {
   "cell_type": "code",
   "execution_count": null,
   "metadata": {},
   "outputs": [],
   "source": [
    "print(pop_df.columns)"
   ]
  },
  {
   "cell_type": "code",
   "execution_count": null,
   "metadata": {},
   "outputs": [],
   "source": [
    "#drop 85 years and older\n",
    "pop_df = pop_df.drop(columns = 'Population Estimate (as of July 1) - 2017 - Both Sexes; 85 years and over')\n",
    "pop_df"
   ]
  },
  {
   "cell_type": "code",
   "execution_count": null,
   "metadata": {},
   "outputs": [],
   "source": [
    "pop_df.shape"
   ]
  },
  {
   "cell_type": "code",
   "execution_count": null,
   "metadata": {},
   "outputs": [],
   "source": [
    "pop_df = pop_df.drop(columns = 'Population Estimate (as of July 1) - 2014 - Both Sexes; 85 years and over')\n",
    "pop_df = pop_df.drop(columns = 'Population Estimate (as of July 1) - 2010 - Both Sexes; 85 years and over')"
   ]
  },
  {
   "cell_type": "code",
   "execution_count": null,
   "metadata": {},
   "outputs": [],
   "source": [
    "pop_df.shape"
   ]
  },
  {
   "cell_type": "code",
   "execution_count": null,
   "metadata": {},
   "outputs": [],
   "source": [
    "print(pop_df.columns)"
   ]
  },
  {
   "cell_type": "code",
   "execution_count": null,
   "metadata": {},
   "outputs": [],
   "source": [
    "pop_df.head(2)"
   ]
  },
  {
   "cell_type": "code",
   "execution_count": null,
   "metadata": {},
   "outputs": [],
   "source": [
    "pop_df = pop_df.rename(index=str, columns={\"Geography\": \"county\"})\n",
    "pop_df.head(3)"
   ]
  },
  {
   "cell_type": "code",
   "execution_count": null,
   "metadata": {},
   "outputs": [],
   "source": [
    "# remove state from pop_df.county\n",
    "pop_df.county = pop_df.county.str.replace(', Tennessee','')\n",
    "pop_df.head(2)"
   ]
  },
  {
   "cell_type": "code",
   "execution_count": null,
   "metadata": {},
   "outputs": [],
   "source": [
    "cancer_df = pd.read_csv('cancer_deaths.csv', skiprows=4, nrows = 96)"
   ]
  },
  {
   "cell_type": "code",
   "execution_count": null,
   "metadata": {},
   "outputs": [],
   "source": [
    "cancer_df.head()"
   ]
  },
  {
   "cell_type": "code",
   "execution_count": 78,
   "metadata": {},
   "outputs": [
    {
     "data": {
      "text/html": [
       "<div>\n",
       "<style scoped>\n",
       "    .dataframe tbody tr th:only-of-type {\n",
       "        vertical-align: middle;\n",
       "    }\n",
       "\n",
       "    .dataframe tbody tr th {\n",
       "        vertical-align: top;\n",
       "    }\n",
       "\n",
       "    .dataframe thead th {\n",
       "        text-align: right;\n",
       "    }\n",
       "</style>\n",
       "<table border=\"1\" class=\"dataframe\">\n",
       "  <thead>\n",
       "    <tr style=\"text-align: right;\">\n",
       "      <th></th>\n",
       "      <th>county</th>\n",
       "      <th>FIPS</th>\n",
       "      <th>Met Healthy People Objective of 161.4?</th>\n",
       "      <th>Age-Adjusted Death Rate - deaths per 100,000</th>\n",
       "      <th>Lower 95% Confidence Interval</th>\n",
       "      <th>Upper 95% Confidence Interval</th>\n",
       "      <th>Average Annual Count</th>\n",
       "      <th>Recent Trend</th>\n",
       "      <th>Recent 5-Year Trend in Death Rates</th>\n",
       "      <th>Lower 95% Confidence Interval.1</th>\n",
       "      <th>Upper 95% Confidence Interval.1</th>\n",
       "    </tr>\n",
       "  </thead>\n",
       "  <tbody>\n",
       "    <tr>\n",
       "      <th>0</th>\n",
       "      <td>Tennessee</td>\n",
       "      <td>47999</td>\n",
       "      <td>No</td>\n",
       "      <td>185.4</td>\n",
       "      <td>184.0</td>\n",
       "      <td>186.8</td>\n",
       "      <td>13933</td>\n",
       "      <td>falling</td>\n",
       "      <td>-1.4</td>\n",
       "      <td>-1.5</td>\n",
       "      <td>-1.2</td>\n",
       "    </tr>\n",
       "    <tr>\n",
       "      <th>1</th>\n",
       "      <td>United States</td>\n",
       "      <td>0</td>\n",
       "      <td>No</td>\n",
       "      <td>163.5</td>\n",
       "      <td>163.3</td>\n",
       "      <td>163.7</td>\n",
       "      <td>586354</td>\n",
       "      <td>falling</td>\n",
       "      <td>-1.5</td>\n",
       "      <td>-1.6</td>\n",
       "      <td>-1.5</td>\n",
       "    </tr>\n",
       "  </tbody>\n",
       "</table>\n",
       "</div>"
      ],
      "text/plain": [
       "          county   FIPS Met Healthy People Objective of 161.4?  \\\n",
       "0      Tennessee  47999                                     No   \n",
       "1  United States      0                                     No   \n",
       "\n",
       "   Age-Adjusted Death Rate - deaths per 100,000  \\\n",
       "0                                         185.4   \n",
       "1                                         163.5   \n",
       "\n",
       "   Lower 95% Confidence Interval  Upper 95% Confidence Interval  \\\n",
       "0                          184.0                          186.8   \n",
       "1                          163.3                          163.7   \n",
       "\n",
       "   Average Annual Count Recent Trend  Recent 5-Year Trend in Death Rates  \\\n",
       "0                 13933      falling                                -1.4   \n",
       "1                586354      falling                                -1.5   \n",
       "\n",
       "   Lower 95% Confidence Interval.1  Upper 95% Confidence Interval.1  \n",
       "0                             -1.5                             -1.2  \n",
       "1                             -1.6                             -1.5  "
      ]
     },
     "execution_count": 78,
     "metadata": {},
     "output_type": "execute_result"
    }
   ],
   "source": [
    "cancer_df=cancer_df.rename(index=str, columns={\"County\": \"county\"})\n",
    "cancer_df.head(2)"
   ]
  },
  {
   "cell_type": "code",
   "execution_count": null,
   "metadata": {},
   "outputs": [],
   "source": [
    "pop_df.head(3)\n",
    "pop_and_cancer = pd.merge(pop_df, cancer_df, on = 'county', how = 'outer')\n",
    "pop_and_cancer.head(2)"
   ]
  },
  {
   "cell_type": "code",
   "execution_count": null,
   "metadata": {},
   "outputs": [],
   "source": [
    "pop_and_cancer.county = pop_and_cancer.county.str.replace(' County', '')"
   ]
  },
  {
   "cell_type": "code",
   "execution_count": 77,
   "metadata": {
    "scrolled": false
   },
   "outputs": [
    {
     "data": {
      "text/html": [
       "<div>\n",
       "<style scoped>\n",
       "    .dataframe tbody tr th:only-of-type {\n",
       "        vertical-align: middle;\n",
       "    }\n",
       "\n",
       "    .dataframe tbody tr th {\n",
       "        vertical-align: top;\n",
       "    }\n",
       "\n",
       "    .dataframe thead th {\n",
       "        text-align: right;\n",
       "    }\n",
       "</style>\n",
       "<table border=\"1\" class=\"dataframe\">\n",
       "  <thead>\n",
       "    <tr style=\"text-align: right;\">\n",
       "      <th></th>\n",
       "      <th>county</th>\n",
       "      <th>Population Estimate (as of July 1) - 2010 - Both Sexes; Total</th>\n",
       "      <th>Population Estimate (as of July 1) - 2014 - Both Sexes; Total</th>\n",
       "      <th>Population Estimate (as of July 1) - 2017 - Both Sexes; Total</th>\n",
       "      <th>Population Estimate (as of July 1) - 2010 - Both Sexes; Total - 50 to 54 years</th>\n",
       "      <th>Population Estimate (as of July 1) - 2014 - Both Sexes; Total - 50 to 54 years</th>\n",
       "      <th>Population Estimate (as of July 1) - 2017 - Both Sexes; Total - 50 to 54 years</th>\n",
       "      <th>Population Estimate (as of July 1) - 2010 - Both Sexes; Total - 55 to 59 years</th>\n",
       "      <th>Population Estimate (as of July 1) - 2014 - Both Sexes; Total - 55 to 59 years</th>\n",
       "      <th>Population Estimate (as of July 1) - 2017 - Both Sexes; Total - 55 to 59 years</th>\n",
       "      <th>...</th>\n",
       "      <th>Met Healthy People Objective of 161.4?</th>\n",
       "      <th>Age-Adjusted Death Rate - deaths per 100,000</th>\n",
       "      <th>Lower 95% Confidence Interval</th>\n",
       "      <th>Upper 95% Confidence Interval</th>\n",
       "      <th>Average Annual Count</th>\n",
       "      <th>Recent Trend</th>\n",
       "      <th>Recent 5-Year Trend in Death Rates</th>\n",
       "      <th>Lower 95% Confidence Interval.1</th>\n",
       "      <th>Upper 95% Confidence Interval.1</th>\n",
       "      <th>hospice_count</th>\n",
       "    </tr>\n",
       "  </thead>\n",
       "  <tbody>\n",
       "    <tr>\n",
       "      <th>0</th>\n",
       "      <td>Anderson</td>\n",
       "      <td>75112.0</td>\n",
       "      <td>75131.0</td>\n",
       "      <td>76257.0</td>\n",
       "      <td>5850.0</td>\n",
       "      <td>5690.0</td>\n",
       "      <td>5296.0</td>\n",
       "      <td>5577.0</td>\n",
       "      <td>5689.0</td>\n",
       "      <td>5643.0</td>\n",
       "      <td>...</td>\n",
       "      <td>No</td>\n",
       "      <td>180.6</td>\n",
       "      <td>169.1</td>\n",
       "      <td>192.7</td>\n",
       "      <td>195.0</td>\n",
       "      <td>falling</td>\n",
       "      <td>-0.7</td>\n",
       "      <td>-1.2</td>\n",
       "      <td>-0.2</td>\n",
       "      <td>0</td>\n",
       "    </tr>\n",
       "    <tr>\n",
       "      <th>1</th>\n",
       "      <td>Bedford</td>\n",
       "      <td>45086.0</td>\n",
       "      <td>46259.0</td>\n",
       "      <td>48117.0</td>\n",
       "      <td>3043.0</td>\n",
       "      <td>3207.0</td>\n",
       "      <td>3239.0</td>\n",
       "      <td>2646.0</td>\n",
       "      <td>2938.0</td>\n",
       "      <td>3143.0</td>\n",
       "      <td>...</td>\n",
       "      <td>No</td>\n",
       "      <td>182.7</td>\n",
       "      <td>166.1</td>\n",
       "      <td>200.6</td>\n",
       "      <td>92.0</td>\n",
       "      <td>falling</td>\n",
       "      <td>-0.7</td>\n",
       "      <td>-1.4</td>\n",
       "      <td>-0.1</td>\n",
       "      <td>0</td>\n",
       "    </tr>\n",
       "  </tbody>\n",
       "</table>\n",
       "<p>2 rows × 42 columns</p>\n",
       "</div>"
      ],
      "text/plain": [
       "     county  Population Estimate (as of July 1) - 2010 - Both Sexes; Total  \\\n",
       "0  Anderson                                            75112.0               \n",
       "1   Bedford                                            45086.0               \n",
       "\n",
       "   Population Estimate (as of July 1) - 2014 - Both Sexes; Total  \\\n",
       "0                                            75131.0               \n",
       "1                                            46259.0               \n",
       "\n",
       "   Population Estimate (as of July 1) - 2017 - Both Sexes; Total  \\\n",
       "0                                            76257.0               \n",
       "1                                            48117.0               \n",
       "\n",
       "   Population Estimate (as of July 1) - 2010 - Both Sexes; Total - 50 to 54 years  \\\n",
       "0                                             5850.0                                \n",
       "1                                             3043.0                                \n",
       "\n",
       "   Population Estimate (as of July 1) - 2014 - Both Sexes; Total - 50 to 54 years  \\\n",
       "0                                             5690.0                                \n",
       "1                                             3207.0                                \n",
       "\n",
       "   Population Estimate (as of July 1) - 2017 - Both Sexes; Total - 50 to 54 years  \\\n",
       "0                                             5296.0                                \n",
       "1                                             3239.0                                \n",
       "\n",
       "   Population Estimate (as of July 1) - 2010 - Both Sexes; Total - 55 to 59 years  \\\n",
       "0                                             5577.0                                \n",
       "1                                             2646.0                                \n",
       "\n",
       "   Population Estimate (as of July 1) - 2014 - Both Sexes; Total - 55 to 59 years  \\\n",
       "0                                             5689.0                                \n",
       "1                                             2938.0                                \n",
       "\n",
       "   Population Estimate (as of July 1) - 2017 - Both Sexes; Total - 55 to 59 years  \\\n",
       "0                                             5643.0                                \n",
       "1                                             3143.0                                \n",
       "\n",
       "       ...        Met Healthy People Objective of 161.4?  \\\n",
       "0      ...                                            No   \n",
       "1      ...                                            No   \n",
       "\n",
       "   Age-Adjusted Death Rate - deaths per 100,000  \\\n",
       "0                                         180.6   \n",
       "1                                         182.7   \n",
       "\n",
       "   Lower 95% Confidence Interval  Upper 95% Confidence Interval  \\\n",
       "0                          169.1                          192.7   \n",
       "1                          166.1                          200.6   \n",
       "\n",
       "   Average Annual Count  Recent Trend  Recent 5-Year Trend in Death Rates  \\\n",
       "0                 195.0       falling                                -0.7   \n",
       "1                  92.0       falling                                -0.7   \n",
       "\n",
       "   Lower 95% Confidence Interval.1  Upper 95% Confidence Interval.1  \\\n",
       "0                             -1.2                             -0.2   \n",
       "1                             -1.4                             -0.1   \n",
       "\n",
       "   hospice_count  \n",
       "0              0  \n",
       "1              0  \n",
       "\n",
       "[2 rows x 42 columns]"
      ]
     },
     "execution_count": 77,
     "metadata": {},
     "output_type": "execute_result"
    }
   ],
   "source": [
    "pop_and_cancer.head(2)"
   ]
  },
  {
   "cell_type": "code",
   "execution_count": null,
   "metadata": {},
   "outputs": [],
   "source": [
    "hospice_df.head(2)"
   ]
  },
  {
   "cell_type": "code",
   "execution_count": null,
   "metadata": {},
   "outputs": [],
   "source": [
    "hospice_df = hospice_df.drop(columns = ['ccn','address2','zip','phone'])"
   ]
  },
  {
   "cell_type": "code",
   "execution_count": 79,
   "metadata": {},
   "outputs": [
    {
     "data": {
      "text/html": [
       "<div>\n",
       "<style scoped>\n",
       "    .dataframe tbody tr th:only-of-type {\n",
       "        vertical-align: middle;\n",
       "    }\n",
       "\n",
       "    .dataframe tbody tr th {\n",
       "        vertical-align: top;\n",
       "    }\n",
       "\n",
       "    .dataframe thead th {\n",
       "        text-align: right;\n",
       "    }\n",
       "</style>\n",
       "<table border=\"1\" class=\"dataframe\">\n",
       "  <thead>\n",
       "    <tr style=\"text-align: right;\">\n",
       "      <th></th>\n",
       "      <th>facility</th>\n",
       "      <th>address</th>\n",
       "      <th>city</th>\n",
       "      <th>state</th>\n",
       "      <th>county</th>\n",
       "      <th>region</th>\n",
       "      <th>owner_type</th>\n",
       "      <th>cert_date</th>\n",
       "    </tr>\n",
       "  </thead>\n",
       "  <tbody>\n",
       "    <tr>\n",
       "      <th>2889</th>\n",
       "      <td>ALIVE HOSPICE INC</td>\n",
       "      <td>1718 PATTERSON ROAD</td>\n",
       "      <td>NASHVILLE</td>\n",
       "      <td>TN</td>\n",
       "      <td>Davidson</td>\n",
       "      <td>4</td>\n",
       "      <td>Non-Profit</td>\n",
       "      <td>04/10/1984</td>\n",
       "    </tr>\n",
       "    <tr>\n",
       "      <th>2890</th>\n",
       "      <td>METHODIST ALLIANCE HOSPICE</td>\n",
       "      <td>6400 SHELBY VIEW DRIVE, SUITE 101</td>\n",
       "      <td>MEMPHIS</td>\n",
       "      <td>TN</td>\n",
       "      <td>Shelby</td>\n",
       "      <td>4</td>\n",
       "      <td>Non-Profit</td>\n",
       "      <td>08/31/1984</td>\n",
       "    </tr>\n",
       "  </tbody>\n",
       "</table>\n",
       "</div>"
      ],
      "text/plain": [
       "                        facility                            address  \\\n",
       "2889           ALIVE HOSPICE INC                1718 PATTERSON ROAD   \n",
       "2890  METHODIST ALLIANCE HOSPICE  6400 SHELBY VIEW DRIVE, SUITE 101   \n",
       "\n",
       "           city state    county  region  owner_type   cert_date  \n",
       "2889  NASHVILLE    TN  Davidson       4  Non-Profit  04/10/1984  \n",
       "2890    MEMPHIS    TN    Shelby       4  Non-Profit  08/31/1984  "
      ]
     },
     "execution_count": 79,
     "metadata": {},
     "output_type": "execute_result"
    }
   ],
   "source": [
    "hospice_df.head(2)"
   ]
  },
  {
   "cell_type": "code",
   "execution_count": null,
   "metadata": {},
   "outputs": [],
   "source": [
    "#Use the pandas series value_counts() method to create a dictionary called hospice_per_county. The key for this dict will be the county name and the value will be the count of hospice facilities in that county. Populate the dictionary for all TN counties by adding the counties with 0 hospice facilities to hospice_per_county.\n",
    "hospice_per_county = hospice_df.county.value_counts().to_dict()"
   ]
  },
  {
   "cell_type": "code",
   "execution_count": null,
   "metadata": {},
   "outputs": [],
   "source": [
    "hospice_per_county"
   ]
  },
  {
   "cell_type": "code",
   "execution_count": null,
   "metadata": {},
   "outputs": [],
   "source": [
    "for county in pop_and_cancer.county:\n",
    "    if county in hospice_per_county:\n",
    "        continue\n",
    "    else:\n",
    "        hospice_per_county[county] = 0\n",
    "\n",
    "#check for Anderson in the dictionary      \n",
    "hospice_per_county['Anderson']"
   ]
  },
  {
   "cell_type": "code",
   "execution_count": 80,
   "metadata": {},
   "outputs": [
    {
     "name": "stderr",
     "output_type": "stream",
     "text": [
      "/Users/meganvogel/anaconda3/lib/python3.6/site-packages/ipykernel_launcher.py:1: SettingWithCopyWarning: \n",
      "A value is trying to be set on a copy of a slice from a DataFrame.\n",
      "Try using .loc[row_indexer,col_indexer] = value instead\n",
      "\n",
      "See the caveats in the documentation: http://pandas.pydata.org/pandas-docs/stable/indexing.html#indexing-view-versus-copy\n",
      "  \"\"\"Entry point for launching an IPython kernel.\n"
     ]
    },
    {
     "data": {
      "text/html": [
       "<div>\n",
       "<style scoped>\n",
       "    .dataframe tbody tr th:only-of-type {\n",
       "        vertical-align: middle;\n",
       "    }\n",
       "\n",
       "    .dataframe tbody tr th {\n",
       "        vertical-align: top;\n",
       "    }\n",
       "\n",
       "    .dataframe thead th {\n",
       "        text-align: right;\n",
       "    }\n",
       "</style>\n",
       "<table border=\"1\" class=\"dataframe\">\n",
       "  <thead>\n",
       "    <tr style=\"text-align: right;\">\n",
       "      <th></th>\n",
       "      <th>county</th>\n",
       "      <th>Population Estimate (as of July 1) - 2010 - Both Sexes; Total</th>\n",
       "      <th>Population Estimate (as of July 1) - 2014 - Both Sexes; Total</th>\n",
       "      <th>Population Estimate (as of July 1) - 2017 - Both Sexes; Total</th>\n",
       "      <th>Population Estimate (as of July 1) - 2010 - Both Sexes; Total - 50 to 54 years</th>\n",
       "      <th>Population Estimate (as of July 1) - 2014 - Both Sexes; Total - 50 to 54 years</th>\n",
       "      <th>Population Estimate (as of July 1) - 2017 - Both Sexes; Total - 50 to 54 years</th>\n",
       "      <th>Population Estimate (as of July 1) - 2010 - Both Sexes; Total - 55 to 59 years</th>\n",
       "      <th>Population Estimate (as of July 1) - 2014 - Both Sexes; Total - 55 to 59 years</th>\n",
       "      <th>Population Estimate (as of July 1) - 2017 - Both Sexes; Total - 55 to 59 years</th>\n",
       "      <th>...</th>\n",
       "      <th>Met Healthy People Objective of 161.4?</th>\n",
       "      <th>Age-Adjusted Death Rate - deaths per 100,000</th>\n",
       "      <th>Lower 95% Confidence Interval</th>\n",
       "      <th>Upper 95% Confidence Interval</th>\n",
       "      <th>Average Annual Count</th>\n",
       "      <th>Recent Trend</th>\n",
       "      <th>Recent 5-Year Trend in Death Rates</th>\n",
       "      <th>Lower 95% Confidence Interval.1</th>\n",
       "      <th>Upper 95% Confidence Interval.1</th>\n",
       "      <th>hospice_count</th>\n",
       "    </tr>\n",
       "  </thead>\n",
       "  <tbody>\n",
       "    <tr>\n",
       "      <th>0</th>\n",
       "      <td>Anderson</td>\n",
       "      <td>75112.0</td>\n",
       "      <td>75131.0</td>\n",
       "      <td>76257.0</td>\n",
       "      <td>5850.0</td>\n",
       "      <td>5690.0</td>\n",
       "      <td>5296.0</td>\n",
       "      <td>5577.0</td>\n",
       "      <td>5689.0</td>\n",
       "      <td>5643.0</td>\n",
       "      <td>...</td>\n",
       "      <td>No</td>\n",
       "      <td>180.6</td>\n",
       "      <td>169.1</td>\n",
       "      <td>192.7</td>\n",
       "      <td>195.0</td>\n",
       "      <td>falling</td>\n",
       "      <td>-0.7</td>\n",
       "      <td>-1.2</td>\n",
       "      <td>-0.2</td>\n",
       "      <td>0</td>\n",
       "    </tr>\n",
       "    <tr>\n",
       "      <th>1</th>\n",
       "      <td>Bedford</td>\n",
       "      <td>45086.0</td>\n",
       "      <td>46259.0</td>\n",
       "      <td>48117.0</td>\n",
       "      <td>3043.0</td>\n",
       "      <td>3207.0</td>\n",
       "      <td>3239.0</td>\n",
       "      <td>2646.0</td>\n",
       "      <td>2938.0</td>\n",
       "      <td>3143.0</td>\n",
       "      <td>...</td>\n",
       "      <td>No</td>\n",
       "      <td>182.7</td>\n",
       "      <td>166.1</td>\n",
       "      <td>200.6</td>\n",
       "      <td>92.0</td>\n",
       "      <td>falling</td>\n",
       "      <td>-0.7</td>\n",
       "      <td>-1.4</td>\n",
       "      <td>-0.1</td>\n",
       "      <td>0</td>\n",
       "    </tr>\n",
       "  </tbody>\n",
       "</table>\n",
       "<p>2 rows × 42 columns</p>\n",
       "</div>"
      ],
      "text/plain": [
       "     county  Population Estimate (as of July 1) - 2010 - Both Sexes; Total  \\\n",
       "0  Anderson                                            75112.0               \n",
       "1   Bedford                                            45086.0               \n",
       "\n",
       "   Population Estimate (as of July 1) - 2014 - Both Sexes; Total  \\\n",
       "0                                            75131.0               \n",
       "1                                            46259.0               \n",
       "\n",
       "   Population Estimate (as of July 1) - 2017 - Both Sexes; Total  \\\n",
       "0                                            76257.0               \n",
       "1                                            48117.0               \n",
       "\n",
       "   Population Estimate (as of July 1) - 2010 - Both Sexes; Total - 50 to 54 years  \\\n",
       "0                                             5850.0                                \n",
       "1                                             3043.0                                \n",
       "\n",
       "   Population Estimate (as of July 1) - 2014 - Both Sexes; Total - 50 to 54 years  \\\n",
       "0                                             5690.0                                \n",
       "1                                             3207.0                                \n",
       "\n",
       "   Population Estimate (as of July 1) - 2017 - Both Sexes; Total - 50 to 54 years  \\\n",
       "0                                             5296.0                                \n",
       "1                                             3239.0                                \n",
       "\n",
       "   Population Estimate (as of July 1) - 2010 - Both Sexes; Total - 55 to 59 years  \\\n",
       "0                                             5577.0                                \n",
       "1                                             2646.0                                \n",
       "\n",
       "   Population Estimate (as of July 1) - 2014 - Both Sexes; Total - 55 to 59 years  \\\n",
       "0                                             5689.0                                \n",
       "1                                             2938.0                                \n",
       "\n",
       "   Population Estimate (as of July 1) - 2017 - Both Sexes; Total - 55 to 59 years  \\\n",
       "0                                             5643.0                                \n",
       "1                                             3143.0                                \n",
       "\n",
       "       ...        Met Healthy People Objective of 161.4?  \\\n",
       "0      ...                                            No   \n",
       "1      ...                                            No   \n",
       "\n",
       "   Age-Adjusted Death Rate - deaths per 100,000  \\\n",
       "0                                         180.6   \n",
       "1                                         182.7   \n",
       "\n",
       "   Lower 95% Confidence Interval  Upper 95% Confidence Interval  \\\n",
       "0                          169.1                          192.7   \n",
       "1                          166.1                          200.6   \n",
       "\n",
       "   Average Annual Count  Recent Trend  Recent 5-Year Trend in Death Rates  \\\n",
       "0                 195.0       falling                                -0.7   \n",
       "1                  92.0       falling                                -0.7   \n",
       "\n",
       "   Lower 95% Confidence Interval.1  Upper 95% Confidence Interval.1  \\\n",
       "0                             -1.2                             -0.2   \n",
       "1                             -1.4                             -0.1   \n",
       "\n",
       "   hospice_count  \n",
       "0              0  \n",
       "1              0  \n",
       "\n",
       "[2 rows x 42 columns]"
      ]
     },
     "execution_count": 80,
     "metadata": {},
     "output_type": "execute_result"
    }
   ],
   "source": [
    "pop_and_cancer['hospice_count'] = [hospice_per_county[county] for county in pop_and_cancer.county]\n",
    "pop_and_cancer.head(2)"
   ]
  },
  {
   "cell_type": "code",
   "execution_count": null,
   "metadata": {},
   "outputs": [],
   "source": [
    "pop_and_cancer.isnull().sum()"
   ]
  },
  {
   "cell_type": "code",
   "execution_count": null,
   "metadata": {},
   "outputs": [],
   "source": [
    "pop_and_cancer.loc[pop_and_cancer['Population Estimate (as of July 1) - 2017 - Both Sexes; Median age (years)'].isnull()]"
   ]
  },
  {
   "cell_type": "code",
   "execution_count": null,
   "metadata": {},
   "outputs": [],
   "source": [
    "pop_and_cancer = pop_and_cancer.loc[pop_and_cancer['Population Estimate (as of July 1) - 2017 - Both Sexes; Median age (years)'].notnull()]"
   ]
  },
  {
   "cell_type": "code",
   "execution_count": null,
   "metadata": {},
   "outputs": [],
   "source": [
    "pop_and_cancer.shape\n",
    "pop_and_cancer"
   ]
  },
  {
   "cell_type": "code",
   "execution_count": null,
   "metadata": {},
   "outputs": [],
   "source": [
    "import matplotlib.pyplot as plt"
   ]
  },
  {
   "cell_type": "code",
   "execution_count": 81,
   "metadata": {},
   "outputs": [
    {
     "data": {
      "text/plain": [
       "196.64574468085107"
      ]
     },
     "execution_count": 81,
     "metadata": {},
     "output_type": "execute_result"
    }
   ],
   "source": [
    "#Find the average death rate from cancer for counties in TN?\n",
    "pop_and_cancer[\"Age-Adjusted Death Rate - deaths per 100,000\"].mean()"
   ]
  },
  {
   "cell_type": "code",
   "execution_count": null,
   "metadata": {},
   "outputs": [],
   "source": [
    "#What does the distribution of the `recent_5year_trend` of deaths from cancer look like for TN counties?\n"
   ]
  }
 ],
 "metadata": {
  "kernelspec": {
   "display_name": "Python 3",
   "language": "python",
   "name": "python3"
  },
  "language_info": {
   "codemirror_mode": {
    "name": "ipython",
    "version": 3
   },
   "file_extension": ".py",
   "mimetype": "text/x-python",
   "name": "python",
   "nbconvert_exporter": "python",
   "pygments_lexer": "ipython3",
   "version": "3.6.5"
  }
 },
 "nbformat": 4,
 "nbformat_minor": 2
}
